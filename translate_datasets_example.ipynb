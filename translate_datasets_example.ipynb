{
 "cells": [
  {
   "cell_type": "code",
   "execution_count": 1,
   "metadata": {},
   "outputs": [
    {
     "name": "stderr",
     "output_type": "stream",
     "text": [
      "/opt/conda/envs/instructmultilingual/lib/python3.8/site-packages/tqdm/auto.py:21: TqdmWarning: IProgress not found. Please update jupyter and ipywidgets. See https://ipywidgets.readthedocs.io/en/stable/user_install.html\n",
      "  from .autonotebook import tqdm as notebook_tqdm\n"
     ]
    }
   ],
   "source": [
    "from datasets import load_dataset\n",
    "\n",
    "from instructmultilingual.translate_datasets import translate_dataset_via_api"
   ]
  },
  {
   "attachments": {},
   "cell_type": "markdown",
   "metadata": {},
   "source": [
    "Since we need to select the correct dataset/template combo to translate via filename in xP3, you need to download the xp3 dataset you want to translate first then load it as DatasetDict object."
   ]
  },
  {
   "cell_type": "code",
   "execution_count": 2,
   "metadata": {},
   "outputs": [
    {
     "name": "stderr",
     "output_type": "stream",
     "text": [
      "Found cached dataset json (/home/weiyi/.cache/huggingface/datasets/json/default-6e8fa74b612f52a5/0.0.0/0f7e3662623656454fcd2b650f34e886a7db4b9104504885bd462096cc7a9f51)\n",
      "100%|██████████| 1/1 [00:00<00:00, 458.74it/s]\n"
     ]
    }
   ],
   "source": [
    "filename = \"datasets/CMRC2018_example/original_files/xp3_clue_cmrc2018_validation_in_an_exam.jsonl\" # put your file here\n",
    "xp3_cmrc2018_val = load_dataset('json', data_files=filename)"
   ]
  },
  {
   "cell_type": "code",
   "execution_count": 3,
   "metadata": {},
   "outputs": [
    {
     "name": "stdout",
     "output_type": "stream",
     "text": [
      "[train] len(ds)=3219\n"
     ]
    },
    {
     "name": "stderr",
     "output_type": "stream",
     "text": [
      "                                                                              \r"
     ]
    },
    {
     "name": "stdout",
     "output_type": "stream",
     "text": [
      "[train] One example translated ds[0]={'inputs': 'In an exam, you are asked what types of targets the.45 ACP is capable of inflicting a serious kill on, and you are tasked to find the answer from the following passage. The.45 ACP is a round-headed revolver cartridge with a heavy-duty round-headed bullet (standard JFM230mm, 14.9g caliber) designed by John Branning in 1904, originally developed for use on experimental Colt pistols, which was later modified into the M1911 and adopted by the US Army in 1911. The.45 ACP has become the standard cartridge for many pistols and high-speed shotguns to this day.', 'targets': 'The unprotected target'}\n",
      "[train] took 365.6051 seconds\n",
      "Elapsed time: 365.6051 seconds\n"
     ]
    },
    {
     "name": "stderr",
     "output_type": "stream",
     "text": [
      "Creating CSV from Arrow format: 100%|██████████| 4/4 [00:00<00:00, 45.37ba/s]\n",
      "Creating json from Arrow format: 100%|██████████| 4/4 [00:00<00:00, 181.82ba/s]\n"
     ]
    }
   ],
   "source": [
    "translate_dataset_via_api(\n",
    "        dataset=xp3_cmrc2018_val,\n",
    "        dataset_name=\"CMRC2018_example\",\n",
    "        splits=[\"train\"],\n",
    "        translate_keys=[\"inputs\", \"targets\"],\n",
    "        target_language=\"English\",\n",
    "        url= \"http://localhost:8000/translate\",\n",
    "        output_dir= \"/home/weiyi/instruct-multilingual/datasets\",\n",
    "        source_language= \"Chinese (Simplified)\",\n",
    "        checkpoint=\"facebook/nllb-200-3.3B\",\n",
    ")\n"
   ]
  },
  {
   "attachments": {},
   "cell_type": "markdown",
   "metadata": {},
   "source": [
    "You should then see your translated data in both json and csv format under datasets/(dataset name)/(target translation code)"
   ]
  }
 ],
 "metadata": {
  "kernelspec": {
   "display_name": "instructmultilingual",
   "language": "python",
   "name": "python3"
  },
  "language_info": {
   "codemirror_mode": {
    "name": "ipython",
    "version": 3
   },
   "file_extension": ".py",
   "mimetype": "text/x-python",
   "name": "python",
   "nbconvert_exporter": "python",
   "pygments_lexer": "ipython3",
   "version": "3.8.10"
  },
  "orig_nbformat": 4
 },
 "nbformat": 4,
 "nbformat_minor": 2
}
