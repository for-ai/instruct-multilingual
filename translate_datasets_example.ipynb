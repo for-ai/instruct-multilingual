{
 "cells": [
  {
   "cell_type": "code",
   "execution_count": 1,
   "metadata": {},
   "outputs": [
    {
     "name": "stderr",
     "output_type": "stream",
     "text": [
      "/opt/conda/envs/instructmultilingual/lib/python3.8/site-packages/tqdm/auto.py:21: TqdmWarning: IProgress not found. Please update jupyter and ipywidgets. See https://ipywidgets.readthedocs.io/en/stable/user_install.html\n",
      "  from .autonotebook import tqdm as notebook_tqdm\n"
     ]
    }
   ],
   "source": [
    "from datasets import load_dataset\n",
    "\n",
    "from instructmultilingual.translate_datasets import translate_dataset_via_api"
   ]
  },
  {
   "attachments": {},
   "cell_type": "markdown",
   "metadata": {},
   "source": [
    "Since we need to select the correct dataset/template combo to translate via filename in xP3, you need to download the xp3 dataset you want to translate first then load it as DatasetDict object like below:"
   ]
  },
  {
   "cell_type": "code",
   "execution_count": 2,
   "metadata": {},
   "outputs": [
    {
     "name": "stderr",
     "output_type": "stream",
     "text": [
      "Found cached dataset json (/home/weiyi/.cache/huggingface/datasets/json/default-42895836aea3e03d/0.0.0/0f7e3662623656454fcd2b650f34e886a7db4b9104504885bd462096cc7a9f51)\n",
      "100%|██████████| 3/3 [00:00<00:00, 828.64it/s]\n"
     ]
    }
   ],
   "source": [
    "xp3_cmrc2018_in_an_exam = load_dataset('json', data_files={\n",
    "    \"train\": [\"datasets/CMRC2018_in_an_exam/original_files/xp3_clue_cmrc2018_train_in_an_exam.jsonl\"], \n",
    "    \"validation\": [\"datasets/CMRC2018_in_an_exam/original_files/xp3_clue_cmrc2018_validation_in_an_exam.jsonl\"],\n",
    "    \"test\": [\"datasets/CMRC2018_in_an_exam/original_files/xp3_clue_cmrc2018_trial_in_an_exam.jsonl\"],\n",
    "    }\n",
    ")"
   ]
  },
  {
   "attachments": {},
   "cell_type": "markdown",
   "metadata": {},
   "source": [
    "You can then call the `translate_dataset_via_api` function and follow the example below to input the parameters"
   ]
  },
  {
   "cell_type": "code",
   "execution_count": 3,
   "metadata": {},
   "outputs": [
    {
     "name": "stdout",
     "output_type": "stream",
     "text": [
      "[train] len(ds)=10142\n"
     ]
    },
    {
     "name": "stderr",
     "output_type": "stream",
     "text": [
      "                                                                               \r"
     ]
    },
    {
     "name": "stdout",
     "output_type": "stream",
     "text": [
      "[train] One example translated ds[0]={'inputs': 'In an exam, you are asked what the name \"Chthonia\" means in Greek, and you are tasked to find the answer from the following passage. Chthonian, sometimes misspelled as Cthonian, is a hypothetical type of celestial body, formed as a result of a gas giant being stripped of its outer layers of hydrogen and helium. These stripped atmospheres are the result of the planet being too close to its star, and the residual rock or metal at its core would in many ways resemble an Earth-like planet. HD 209458b is an example of a planet in the process of being stripped of its atmosphere, but it is not itself a Chthonia, and will not be a Chthonia in the foreseeable future.', 'targets': '\"Under the earth\" usually refers to the hot hell under the Greek gods.'}\n",
      "[train] took 1111.0908 seconds\n"
     ]
    },
    {
     "name": "stderr",
     "output_type": "stream",
     "text": [
      "Creating CSV from Arrow format: 100%|██████████| 11/11 [00:00<00:00, 52.86ba/s]\n",
      "Creating json from Arrow format: 100%|██████████| 11/11 [00:00<00:00, 164.87ba/s]"
     ]
    },
    {
     "name": "stdout",
     "output_type": "stream",
     "text": [
      "[validation] len(ds)=3219\n"
     ]
    },
    {
     "name": "stderr",
     "output_type": "stream",
     "text": [
      "\n",
      "                                                                              \r"
     ]
    },
    {
     "name": "stdout",
     "output_type": "stream",
     "text": [
      "[validation] One example translated ds[0]={'inputs': 'In an exam, you are asked what types of targets the.45 ACP is capable of inflicting a serious kill on, and you are tasked to find the answer from the following passage. The.45 ACP is a round-headed revolver cartridge with a heavy-duty round-headed bullet (standard JFM230mm, 14.9g caliber) designed by John Branning in 1904, originally developed for use on experimental Colt pistols, which was later modified into the M1911 and adopted by the US Army in 1911. The.45 ACP has become the standard cartridge for many pistols and high-speed shotguns to this day.', 'targets': 'The unprotected target'}\n",
      "[validation] took 364.5201 seconds\n"
     ]
    },
    {
     "name": "stderr",
     "output_type": "stream",
     "text": [
      "Creating CSV from Arrow format: 100%|██████████| 4/4 [00:00<00:00, 66.89ba/s]\n",
      "Creating json from Arrow format: 100%|██████████| 4/4 [00:00<00:00, 177.09ba/s]"
     ]
    },
    {
     "name": "stdout",
     "output_type": "stream",
     "text": [
      "[test] len(ds)=1002\n"
     ]
    },
    {
     "name": "stderr",
     "output_type": "stream",
     "text": [
      "\n",
      "                                                                           \r"
     ]
    },
    {
     "name": "stdout",
     "output_type": "stream",
     "text": [
      "[test] One example translated ds[0]={'inputs': 'In an exam, you are asked \"How tall is P. tuckeri?\", and you are tasked to find the answer from the following passage. Plotosaurus, a genus of the family Plotosauridae, lived during the Late Cretaceous Period, with fossils found in Fresno County, California. Plotosaurus was originally named \"Kolposaurus\" by Berkeley University paleontologist Charles Lewis Camp in 1942; in 1951, Camp discovered that a phylogenetic species already used this name, hence the name.', 'targets': 'About fourteen feet.'}\n",
      "[test] took 139.8818 seconds\n"
     ]
    },
    {
     "name": "stderr",
     "output_type": "stream",
     "text": [
      "Creating CSV from Arrow format: 100%|██████████| 2/2 [00:00<00:00, 80.67ba/s]\n",
      "Creating json from Arrow format: 100%|██████████| 2/2 [00:00<00:00, 229.16ba/s]"
     ]
    },
    {
     "name": "stdout",
     "output_type": "stream",
     "text": [
      "Elapsed time: 1615.9321 seconds\n"
     ]
    },
    {
     "name": "stderr",
     "output_type": "stream",
     "text": [
      "\n"
     ]
    }
   ],
   "source": [
    "translate_dataset_via_api(\n",
    "        dataset=xp3_cmrc2018_in_an_exam,\n",
    "        dataset_name=\"CMRC2018_in_an_exam\",\n",
    "        splits=[\"train\", \"validation\", \"test\"],\n",
    "        translate_keys=[\"inputs\", \"targets\"],\n",
    "        target_language=\"English\",\n",
    "        url= \"http://localhost:8000/translate\",\n",
    "        output_dir= \"/home/weiyi/instruct-multilingual/datasets\",\n",
    "        source_language= \"Chinese (Simplified)\",\n",
    "        checkpoint=\"facebook/nllb-200-3.3B\",\n",
    ")\n"
   ]
  },
  {
   "attachments": {},
   "cell_type": "markdown",
   "metadata": {},
   "source": [
    "You should then see your translated data in both json and csv format under datasets/(dataset name)/(target translation code)"
   ]
  }
 ],
 "metadata": {
  "kernelspec": {
   "display_name": "instructmultilingual",
   "language": "python",
   "name": "python3"
  },
  "language_info": {
   "codemirror_mode": {
    "name": "ipython",
    "version": 3
   },
   "file_extension": ".py",
   "mimetype": "text/x-python",
   "name": "python",
   "nbconvert_exporter": "python",
   "pygments_lexer": "ipython3",
   "version": "3.8.10"
  },
  "orig_nbformat": 4
 },
 "nbformat": 4,
 "nbformat_minor": 2
}
