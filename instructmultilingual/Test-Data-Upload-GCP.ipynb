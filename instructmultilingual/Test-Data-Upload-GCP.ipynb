{
 "cells": [
  {
   "cell_type": "code",
   "execution_count": 2,
   "id": "d7059626-caef-4d13-8e4c-dfb0702a1239",
   "metadata": {
    "collapsed": true,
    "jupyter": {
     "outputs_hidden": true
    }
   },
   "outputs": [
    {
     "name": "stdout",
     "output_type": "stream",
     "text": [
      "Defaulting to user installation because normal site-packages is not writeable\n",
      "Collecting pandas==2.1.4\n",
      "  Using cached pandas-2.1.4-cp310-cp310-manylinux_2_17_x86_64.manylinux2014_x86_64.whl (12.3 MB)\n",
      "Collecting numpy==1.26.2\n",
      "  Using cached numpy-1.26.2-cp310-cp310-manylinux_2_17_x86_64.manylinux2014_x86_64.whl (18.2 MB)\n",
      "Collecting python-dotenv==1.0.0\n",
      "  Using cached python_dotenv-1.0.0-py3-none-any.whl (19 kB)\n",
      "Collecting SQLAlchemy==2.0.23\n",
      "  Using cached SQLAlchemy-2.0.23-cp310-cp310-manylinux_2_17_x86_64.manylinux2014_x86_64.whl (3.0 MB)\n",
      "Collecting google-cloud-storage==2.14.0\n",
      "  Using cached google_cloud_storage-2.14.0-py2.py3-none-any.whl (121 kB)\n",
      "Collecting tqdm==4.66.1\n",
      "  Using cached tqdm-4.66.1-py3-none-any.whl (78 kB)\n",
      "Requirement already satisfied: python-dateutil>=2.8.2 in /home/shivalikasingh95/.local/lib/python3.10/site-packages (from pandas==2.1.4->-r requirements.txt (line 1)) (2.8.2)\n",
      "Collecting tzdata>=2022.1\n",
      "  Using cached tzdata-2023.4-py2.py3-none-any.whl (346 kB)\n",
      "Requirement already satisfied: pytz>=2020.1 in /usr/lib/python3/dist-packages (from pandas==2.1.4->-r requirements.txt (line 1)) (2022.1)\n",
      "Collecting greenlet!=0.4.17\n",
      "  Using cached greenlet-3.0.3-cp310-cp310-manylinux_2_24_x86_64.manylinux_2_28_x86_64.whl (616 kB)\n",
      "Requirement already satisfied: typing-extensions>=4.2.0 in /home/shivalikasingh95/.local/lib/python3.10/site-packages (from SQLAlchemy==2.0.23->-r requirements.txt (line 4)) (4.9.0)\n",
      "Collecting google-api-core!=2.0.*,!=2.1.*,!=2.2.*,!=2.3.0,<3.0.0dev,>=1.31.5\n",
      "  Using cached google_api_core-2.15.0-py3-none-any.whl (121 kB)\n",
      "Collecting google-crc32c<2.0dev,>=1.0\n",
      "  Using cached google_crc32c-1.5.0-cp310-cp310-manylinux_2_17_x86_64.manylinux2014_x86_64.whl (32 kB)\n",
      "Collecting google-auth<3.0dev,>=2.23.3\n",
      "  Using cached google_auth-2.26.2-py2.py3-none-any.whl (186 kB)\n",
      "Collecting google-resumable-media>=2.6.0\n",
      "  Using cached google_resumable_media-2.7.0-py2.py3-none-any.whl (80 kB)\n",
      "Requirement already satisfied: requests<3.0.0dev,>=2.18.0 in /home/shivalikasingh95/.local/lib/python3.10/site-packages (from google-cloud-storage==2.14.0->-r requirements.txt (line 5)) (2.31.0)\n",
      "Collecting google-cloud-core<3.0dev,>=2.3.0\n",
      "  Using cached google_cloud_core-2.4.1-py2.py3-none-any.whl (29 kB)\n",
      "Collecting googleapis-common-protos<2.0.dev0,>=1.56.2\n",
      "  Using cached googleapis_common_protos-1.62.0-py2.py3-none-any.whl (228 kB)\n",
      "Collecting protobuf!=3.20.0,!=3.20.1,!=4.21.0,!=4.21.1,!=4.21.2,!=4.21.3,!=4.21.4,!=4.21.5,<5.0.0.dev0,>=3.19.5\n",
      "  Using cached protobuf-4.25.2-cp37-abi3-manylinux2014_x86_64.whl (294 kB)\n",
      "Collecting cachetools<6.0,>=2.0.0\n",
      "  Using cached cachetools-5.3.2-py3-none-any.whl (9.3 kB)\n",
      "Requirement already satisfied: pyasn1-modules>=0.2.1 in /usr/lib/python3/dist-packages (from google-auth<3.0dev,>=2.23.3->google-cloud-storage==2.14.0->-r requirements.txt (line 5)) (0.2.1)\n",
      "Collecting rsa<5,>=3.1.4\n",
      "  Using cached rsa-4.9-py3-none-any.whl (34 kB)\n",
      "Requirement already satisfied: six>=1.5 in /usr/lib/python3/dist-packages (from python-dateutil>=2.8.2->pandas==2.1.4->-r requirements.txt (line 1)) (1.16.0)\n",
      "Requirement already satisfied: certifi>=2017.4.17 in /usr/lib/python3/dist-packages (from requests<3.0.0dev,>=2.18.0->google-cloud-storage==2.14.0->-r requirements.txt (line 5)) (2020.6.20)\n",
      "Requirement already satisfied: urllib3<3,>=1.21.1 in /usr/lib/python3/dist-packages (from requests<3.0.0dev,>=2.18.0->google-cloud-storage==2.14.0->-r requirements.txt (line 5)) (1.26.5)\n",
      "Requirement already satisfied: idna<4,>=2.5 in /usr/lib/python3/dist-packages (from requests<3.0.0dev,>=2.18.0->google-cloud-storage==2.14.0->-r requirements.txt (line 5)) (3.3)\n",
      "Requirement already satisfied: charset-normalizer<4,>=2 in /home/shivalikasingh95/.local/lib/python3.10/site-packages (from requests<3.0.0dev,>=2.18.0->google-cloud-storage==2.14.0->-r requirements.txt (line 5)) (3.3.2)\n",
      "Requirement already satisfied: pyasn1>=0.1.3 in /usr/lib/python3/dist-packages (from rsa<5,>=3.1.4->google-auth<3.0dev,>=2.23.3->google-cloud-storage==2.14.0->-r requirements.txt (line 5)) (0.4.8)\n",
      "Installing collected packages: tzdata, tqdm, rsa, python-dotenv, protobuf, numpy, greenlet, google-crc32c, cachetools, SQLAlchemy, pandas, googleapis-common-protos, google-resumable-media, google-auth, google-api-core, google-cloud-core, google-cloud-storage\n",
      "  Attempting uninstall: numpy\n",
      "    Found existing installation: numpy 1.26.3\n",
      "    Uninstalling numpy-1.26.3:\n",
      "      Successfully uninstalled numpy-1.26.3\n",
      "Successfully installed SQLAlchemy-2.0.23 cachetools-5.3.2 google-api-core-2.15.0 google-auth-2.26.2 google-cloud-core-2.4.1 google-cloud-storage-2.14.0 google-crc32c-1.5.0 google-resumable-media-2.7.0 googleapis-common-protos-1.62.0 greenlet-3.0.3 numpy-1.26.2 pandas-2.1.4 protobuf-4.25.2 python-dotenv-1.0.0 rsa-4.9 tqdm-4.66.1 tzdata-2023.4\n"
     ]
    }
   ],
   "source": [
    "!pip install -r requirements.txt"
   ]
  },
  {
   "cell_type": "code",
   "execution_count": 1,
   "id": "b19b9ee5-9067-4869-a532-036876c04078",
   "metadata": {},
   "outputs": [],
   "source": [
    "from pathlib import Path\n",
    "from google.cloud.storage import Client, transfer_manager\n",
    "from dotenv import load_dotenv\n",
    "import os"
   ]
  },
  {
   "cell_type": "code",
   "execution_count": 2,
   "id": "4cec8940-6652-407a-9ef2-3e95e753d033",
   "metadata": {},
   "outputs": [
    {
     "data": {
      "text/plain": [
       "True"
      ]
     },
     "execution_count": 2,
     "metadata": {},
     "output_type": "execute_result"
    }
   ],
   "source": [
    "load_dotenv('../aya-data-notebooks/AYA-collection-prep/res/.env.analytics-instruct-multilingual-app.prod')"
   ]
  },
  {
   "cell_type": "code",
   "execution_count": 3,
   "id": "aa11ccf1-ed93-471b-a778-df3acb26162e",
   "metadata": {},
   "outputs": [
    {
     "name": "stdout",
     "output_type": "stream",
     "text": [
      "c4ai-instruct-multilingual-data\n"
     ]
    }
   ],
   "source": [
    "project_id = os.environ.get('C4AI_PROJECT_ID')\n",
    "bucket_name = os.environ.get('AYA_COLLECTION_BUCKET')\n",
    "print(bucket_name)"
   ]
  },
  {
   "cell_type": "code",
   "execution_count": 4,
   "id": "41b0f69d-c3dc-467f-b9e3-adc23f7e3669",
   "metadata": {},
   "outputs": [],
   "source": [
    "storage_client = Client(project=project_id)\n",
    "bucket = storage_client.bucket(bucket_name)"
   ]
  },
  {
   "cell_type": "code",
   "execution_count": 5,
   "id": "d2e39742-54af-4fb0-8ac5-00de2dec8625",
   "metadata": {},
   "outputs": [],
   "source": [
    "TEMPLATE_BASE_DIR = '/home/shivalikasingh95/aya_collection_plots/templated_datasets/release-v0-vm/'\n",
    "\n",
    "TEMP_INFO_FILES = 'aya-data-notebooks/AYA-collection-prep/release-data/'\n",
    "\n",
    "aya_collection_info_dir_templated = f\"{TEMP_INFO_FILES}\"\n",
    "aya_collection_data_dir_templated = f\"{TEMPLATE_BASE_DIR}data/\""
   ]
  },
  {
   "cell_type": "code",
   "execution_count": 6,
   "id": "d88d6a99-d88f-4b91-ad85-8ee5f5db4444",
   "metadata": {},
   "outputs": [],
   "source": [
    "aya_collection_info_dir_translated = \"../aya-data-notebooks/AYA-collection-prep/translated-v2/info\"\n",
    "\n",
    "#\"../aya-data-notebooks/AYA-collection-prep/translated-collection-v0-backup/info\"\n",
    "aya_collection_data_dir_translated = \"../aya-data-notebooks/AYA-collection-prep/translated-v2/data\"\n",
    "\n",
    "#\"../aya-data-notebooks/AYA-collection-prep/translated-collection-v0-backup/data\""
   ]
  },
  {
   "cell_type": "markdown",
   "id": "ebe1be58-b1e4-4e77-8475-a623d0351462",
   "metadata": {},
   "source": [
    "## Prepare info file path"
   ]
  },
  {
   "cell_type": "code",
   "execution_count": 7,
   "id": "1f950111-981c-42c7-bca2-495b70fef3c2",
   "metadata": {},
   "outputs": [
    {
     "name": "stdout",
     "output_type": "stream",
     "text": [
      "../aya-data-notebooks/AYA-collection-prep/translated-v2/info\n"
     ]
    }
   ],
   "source": [
    "aya_collection_info_dir = aya_collection_info_dir_translated #aya_collection_info_dir_templated\n",
    "\n",
    "info_directory_path = Path(aya_collection_info_dir)\n",
    "print(info_directory_path)"
   ]
  },
  {
   "cell_type": "code",
   "execution_count": 8,
   "id": "c5684d28-46e5-48c6-b89a-16fdc753f406",
   "metadata": {},
   "outputs": [
    {
     "data": {
      "text/plain": [
       "[PosixPath('../aya-data-notebooks/AYA-collection-prep/translated-v2/info/translated_piqa_info.jsonl'),\n",
       " PosixPath('../aya-data-notebooks/AYA-collection-prep/translated-v2/info/translated_flan_lambada_info.jsonl'),\n",
       " PosixPath('../aya-data-notebooks/AYA-collection-prep/translated-v2/info/translated_wikiqa_info.jsonl'),\n",
       " PosixPath('../aya-data-notebooks/AYA-collection-prep/translated-v2/info/translated_dolly_info.jsonl'),\n",
       " PosixPath('../aya-data-notebooks/AYA-collection-prep/translated-v2/info/translated_mlqa_info.jsonl'),\n",
       " PosixPath('../aya-data-notebooks/AYA-collection-prep/translated-v2/info/translated_flan_qa_info.jsonl'),\n",
       " PosixPath('../aya-data-notebooks/AYA-collection-prep/translated-v2/info/translated_joke_explaination_info.jsonl'),\n",
       " PosixPath('../aya-data-notebooks/AYA-collection-prep/translated-v2/info/translated_flan_cot_info.jsonl'),\n",
       " PosixPath('../aya-data-notebooks/AYA-collection-prep/translated-v2/info/translated_mintaka_info.jsonl'),\n",
       " PosixPath('../aya-data-notebooks/AYA-collection-prep/translated-v2/info/translated_cnn_dailymail_info.jsonl'),\n",
       " PosixPath('../aya-data-notebooks/AYA-collection-prep/translated-v2/info/translated_soda_info.jsonl'),\n",
       " PosixPath('../aya-data-notebooks/AYA-collection-prep/translated-v2/info/translated_nqopen_info.jsonl'),\n",
       " PosixPath('../aya-data-notebooks/AYA-collection-prep/translated-v2/info/translated_wiki_split_info.jsonl'),\n",
       " PosixPath('../aya-data-notebooks/AYA-collection-prep/translated-v2/info/translated_flan_coqa_info.jsonl'),\n",
       " PosixPath('../aya-data-notebooks/AYA-collection-prep/translated-v2/info/translated_adversarial_qa_info.jsonl'),\n",
       " PosixPath('../aya-data-notebooks/AYA-collection-prep/translated-v2/info/translated_paws_info.jsonl'),\n",
       " PosixPath('../aya-data-notebooks/AYA-collection-prep/translated-v2/info/translated_xlel_wd_info.jsonl'),\n",
       " PosixPath('../aya-data-notebooks/AYA-collection-prep/translated-v2/info/translated_hotpotqa_info.jsonl'),\n",
       " PosixPath('../aya-data-notebooks/AYA-collection-prep/translated-v2/info/translated_flan_gem_wiki_info.jsonl')]"
      ]
     },
     "execution_count": 8,
     "metadata": {},
     "output_type": "execute_result"
    }
   ],
   "source": [
    "# paths = directory_path.rglob(\"*.jsonl\")\n",
    "# file_paths = [path for path in paths if path.is_file()]\n",
    "# file_paths\n",
    "info_file_paths = [x for x in info_directory_path.glob(\"*.jsonl\") if not x.name.startswith(\".ipynb_checkpoints\")]\n",
    "info_file_paths"
   ]
  },
  {
   "cell_type": "code",
   "execution_count": 9,
   "id": "5fce7e19-893a-4ddd-969e-c49084c848ad",
   "metadata": {},
   "outputs": [
    {
     "data": {
      "text/plain": [
       "[PosixPath('translated_piqa_info.jsonl'),\n",
       " PosixPath('translated_flan_lambada_info.jsonl'),\n",
       " PosixPath('translated_wikiqa_info.jsonl'),\n",
       " PosixPath('translated_dolly_info.jsonl'),\n",
       " PosixPath('translated_mlqa_info.jsonl'),\n",
       " PosixPath('translated_flan_qa_info.jsonl'),\n",
       " PosixPath('translated_joke_explaination_info.jsonl'),\n",
       " PosixPath('translated_flan_cot_info.jsonl'),\n",
       " PosixPath('translated_mintaka_info.jsonl'),\n",
       " PosixPath('translated_cnn_dailymail_info.jsonl'),\n",
       " PosixPath('translated_soda_info.jsonl'),\n",
       " PosixPath('translated_nqopen_info.jsonl'),\n",
       " PosixPath('translated_wiki_split_info.jsonl'),\n",
       " PosixPath('translated_flan_coqa_info.jsonl'),\n",
       " PosixPath('translated_adversarial_qa_info.jsonl'),\n",
       " PosixPath('translated_paws_info.jsonl'),\n",
       " PosixPath('translated_xlel_wd_info.jsonl'),\n",
       " PosixPath('translated_hotpotqa_info.jsonl'),\n",
       " PosixPath('translated_flan_gem_wiki_info.jsonl')]"
      ]
     },
     "execution_count": 9,
     "metadata": {},
     "output_type": "execute_result"
    }
   ],
   "source": [
    "relative_paths = [path.relative_to(info_directory_path) for path in info_file_paths]\n",
    "relative_paths"
   ]
  },
  {
   "cell_type": "code",
   "execution_count": 10,
   "id": "de58d1cc-6e27-47ae-9d6d-12216aab1597",
   "metadata": {},
   "outputs": [
    {
     "name": "stdout",
     "output_type": "stream",
     "text": [
      "Found 19 files.\n"
     ]
    }
   ],
   "source": [
    "string_paths = [str(path) for path in relative_paths]\n",
    "\n",
    "print(\"Found {} files.\".format(len(string_paths)))"
   ]
  },
  {
   "cell_type": "markdown",
   "id": "8521e30f-d551-41e8-ba19-0783a4df821d",
   "metadata": {},
   "source": [
    "## Test Pushing Sample files"
   ]
  },
  {
   "cell_type": "code",
   "execution_count": 11,
   "id": "752da041-d878-4bf7-ad1e-7bbd75ece142",
   "metadata": {},
   "outputs": [
    {
     "data": {
      "text/plain": [
       "['translated_piqa_info.jsonl',\n",
       " 'translated_flan_lambada_info.jsonl',\n",
       " 'translated_wikiqa_info.jsonl',\n",
       " 'translated_dolly_info.jsonl',\n",
       " 'translated_mlqa_info.jsonl',\n",
       " 'translated_flan_qa_info.jsonl',\n",
       " 'translated_joke_explaination_info.jsonl',\n",
       " 'translated_flan_cot_info.jsonl',\n",
       " 'translated_mintaka_info.jsonl',\n",
       " 'translated_cnn_dailymail_info.jsonl',\n",
       " 'translated_soda_info.jsonl',\n",
       " 'translated_nqopen_info.jsonl',\n",
       " 'translated_wiki_split_info.jsonl',\n",
       " 'translated_flan_coqa_info.jsonl',\n",
       " 'translated_adversarial_qa_info.jsonl',\n",
       " 'translated_paws_info.jsonl',\n",
       " 'translated_xlel_wd_info.jsonl',\n",
       " 'translated_hotpotqa_info.jsonl',\n",
       " 'translated_flan_gem_wiki_info.jsonl']"
      ]
     },
     "execution_count": 11,
     "metadata": {},
     "output_type": "execute_result"
    }
   ],
   "source": [
    "string_paths"
   ]
  },
  {
   "cell_type": "code",
   "execution_count": 54,
   "id": "0d5adc48-9d0d-4a8a-8462-a3117dccde4c",
   "metadata": {},
   "outputs": [
    {
     "name": "stdout",
     "output_type": "stream",
     "text": [
      "Uploaded FLAN_CoT_info.jsonl to c4ai-instruct-multilingual-data.\n",
      "Uploaded joke_explaination_info.jsonl to c4ai-instruct-multilingual-data.\n"
     ]
    }
   ],
   "source": [
    "# test upload with 2 sample files\n",
    "\n",
    "# v0 path for templated --> \"aya-collection-staging/v0/info/\"\n",
    "\n",
    "# v1 path for templated --> \"aya-collection-staging/v1/templated_datasets/info/\"\n",
    "\n",
    "# v1 path for translated --> \"aya-collection-staging/v1/translated_datasets/info/\"\n",
    "\n",
    "results = transfer_manager.upload_many_from_filenames(\n",
    "    bucket, string_paths[1:3], source_directory=aya_collection_info_dir, max_workers = 8, blob_name_prefix=\"aya-collection-staging/v1/translated_datasets/info/\")\n",
    "\n",
    "for name, result in zip(string_paths[1:3], results):\n",
    "    if isinstance(result, Exception):\n",
    "            print(\"Failed to upload {} due to exception: {}\".format(name, result))\n",
    "    else:\n",
    "        print(\"Uploaded {} to {}.\".format(name, bucket.name))"
   ]
  },
  {
   "cell_type": "markdown",
   "id": "ce64247d-9d66-4aee-a028-fb26bbd9c392",
   "metadata": {},
   "source": [
    "## Push info files"
   ]
  },
  {
   "cell_type": "code",
   "execution_count": 12,
   "id": "942865c3-db52-431e-9fb2-2c8e6a1f8cd2",
   "metadata": {},
   "outputs": [
    {
     "name": "stdout",
     "output_type": "stream",
     "text": [
      "Uploaded translated_piqa_info.jsonl to c4ai-instruct-multilingual-data.\n",
      "Uploaded translated_flan_lambada_info.jsonl to c4ai-instruct-multilingual-data.\n",
      "Uploaded translated_wikiqa_info.jsonl to c4ai-instruct-multilingual-data.\n",
      "Uploaded translated_dolly_info.jsonl to c4ai-instruct-multilingual-data.\n",
      "Uploaded translated_mlqa_info.jsonl to c4ai-instruct-multilingual-data.\n",
      "Uploaded translated_flan_qa_info.jsonl to c4ai-instruct-multilingual-data.\n",
      "Uploaded translated_joke_explaination_info.jsonl to c4ai-instruct-multilingual-data.\n",
      "Uploaded translated_flan_cot_info.jsonl to c4ai-instruct-multilingual-data.\n",
      "Uploaded translated_mintaka_info.jsonl to c4ai-instruct-multilingual-data.\n",
      "Uploaded translated_cnn_dailymail_info.jsonl to c4ai-instruct-multilingual-data.\n",
      "Uploaded translated_soda_info.jsonl to c4ai-instruct-multilingual-data.\n",
      "Uploaded translated_nqopen_info.jsonl to c4ai-instruct-multilingual-data.\n",
      "Uploaded translated_wiki_split_info.jsonl to c4ai-instruct-multilingual-data.\n",
      "Uploaded translated_flan_coqa_info.jsonl to c4ai-instruct-multilingual-data.\n",
      "Uploaded translated_adversarial_qa_info.jsonl to c4ai-instruct-multilingual-data.\n",
      "Uploaded translated_paws_info.jsonl to c4ai-instruct-multilingual-data.\n",
      "Uploaded translated_xlel_wd_info.jsonl to c4ai-instruct-multilingual-data.\n",
      "Uploaded translated_hotpotqa_info.jsonl to c4ai-instruct-multilingual-data.\n",
      "Uploaded translated_flan_gem_wiki_info.jsonl to c4ai-instruct-multilingual-data.\n"
     ]
    }
   ],
   "source": [
    "# push all info files\n",
    "\n",
    "## Check source_directory before upload --> source_directory!!\n",
    "\n",
    "# v0 path for templated --> \"aya-collection-staging/v0/info/\"\n",
    "\n",
    "# v1 path for templated --> \"aya-collection-staging/v1/templated_datasets/info/\"\n",
    "\n",
    "# v1 path for translated --> \"aya-collection-staging/v1/translated_datasets/info/\"\n",
    "\n",
    "# v2 path for translated --> \"aya-collection-staging/v2/translated_datasets/info/\"\n",
    "\n",
    "results = transfer_manager.upload_many_from_filenames(\n",
    "    bucket, string_paths, source_directory=aya_collection_info_dir, max_workers = 8, blob_name_prefix=\"aya-collection-staging/v2/translated_datasets/info/\")\n",
    "\n",
    "for name, result in zip(string_paths, results):\n",
    "    if isinstance(result, Exception):\n",
    "            print(\"Failed to upload {} due to exception: {}\".format(name, result))\n",
    "    else:\n",
    "        print(\"Uploaded {} to {}.\".format(name, bucket.name))"
   ]
  },
  {
   "cell_type": "markdown",
   "id": "6d114de7-3cdf-4a45-8cc3-2c873e615557",
   "metadata": {},
   "source": [
    "## Rename data Files"
   ]
  },
  {
   "cell_type": "code",
   "execution_count": 13,
   "id": "1208f567-a47b-424b-a520-366522af309e",
   "metadata": {},
   "outputs": [
    {
     "name": "stdout",
     "output_type": "stream",
     "text": [
      "../aya-data-notebooks/AYA-collection-prep/translated-v2/data\n"
     ]
    }
   ],
   "source": [
    "aya_collection_data_dir = aya_collection_data_dir_translated #aya_collection_data_dir_templated\n",
    "\n",
    "data_directory_path = Path(aya_collection_data_dir)\n",
    "print(data_directory_path)"
   ]
  },
  {
   "cell_type": "code",
   "execution_count": 14,
   "id": "f21d27dd-5138-41f0-9b21-e6c863c887b0",
   "metadata": {},
   "outputs": [
    {
     "data": {
      "text/plain": [
       "[PosixPath('../aya-data-notebooks/AYA-collection-prep/translated-v2/data/translated_xlel_wd_data.jsonl'),\n",
       " PosixPath('../aya-data-notebooks/AYA-collection-prep/translated-v2/data/translated_piqa_data.jsonl'),\n",
       " PosixPath('../aya-data-notebooks/AYA-collection-prep/translated-v2/data/translated_flan_qa_data.jsonl'),\n",
       " PosixPath('../aya-data-notebooks/AYA-collection-prep/translated-v2/data/translated_flan_gem_wiki_data.jsonl'),\n",
       " PosixPath('../aya-data-notebooks/AYA-collection-prep/translated-v2/data/translated_paws_data.jsonl'),\n",
       " PosixPath('../aya-data-notebooks/AYA-collection-prep/translated-v2/data/translated_flan_coqa_data.jsonl'),\n",
       " PosixPath('../aya-data-notebooks/AYA-collection-prep/translated-v2/data/translated_mlqa_data.jsonl'),\n",
       " PosixPath('../aya-data-notebooks/AYA-collection-prep/translated-v2/data/translated_wiki_split_data.jsonl'),\n",
       " PosixPath('../aya-data-notebooks/AYA-collection-prep/translated-v2/data/translated_flan_lambada_data.jsonl'),\n",
       " PosixPath('../aya-data-notebooks/AYA-collection-prep/translated-v2/data/translated_dolly_data.jsonl'),\n",
       " PosixPath('../aya-data-notebooks/AYA-collection-prep/translated-v2/data/translated_adversarial_qa_data.jsonl'),\n",
       " PosixPath('../aya-data-notebooks/AYA-collection-prep/translated-v2/data/translated_mintaka_data.jsonl'),\n",
       " PosixPath('../aya-data-notebooks/AYA-collection-prep/translated-v2/data/translated_hotpotqa_data.jsonl'),\n",
       " PosixPath('../aya-data-notebooks/AYA-collection-prep/translated-v2/data/translated_nqopen_data.jsonl'),\n",
       " PosixPath('../aya-data-notebooks/AYA-collection-prep/translated-v2/data/translated_wikiqa_data.jsonl'),\n",
       " PosixPath('../aya-data-notebooks/AYA-collection-prep/translated-v2/data/translated_soda_data.jsonl'),\n",
       " PosixPath('../aya-data-notebooks/AYA-collection-prep/translated-v2/data/translated_cnn_dailymail_data.jsonl'),\n",
       " PosixPath('../aya-data-notebooks/AYA-collection-prep/translated-v2/data/translated_flan_cot_data.jsonl'),\n",
       " PosixPath('../aya-data-notebooks/AYA-collection-prep/translated-v2/data/translated_joke_explaination_data.jsonl')]"
      ]
     },
     "execution_count": 14,
     "metadata": {},
     "output_type": "execute_result"
    }
   ],
   "source": [
    "# data_file_paths = [x for x in data_directory_path.glob(\"*.jsonl\") if not x.name.startswith(\".ipynb_checkpoints\")] # for templated\n",
    "data_file_paths = [x for x in data_directory_path.glob(\"*.jsonl\") if not x.name.startswith(\".ipynb_checkpoints\")] #and x.name.startswith(\"mm_\")]\n",
    "data_file_paths"
   ]
  },
  {
   "cell_type": "code",
   "execution_count": 44,
   "id": "4428a0b4-4e81-4939-9118-bea864143bb6",
   "metadata": {
    "collapsed": true,
    "jupyter": {
     "outputs_hidden": true
    }
   },
   "outputs": [
    {
     "data": {
      "text/plain": [
       "[PosixPath('collection-v0/release-v0-vm/data/TeluguRiddles_data.jsonl'),\n",
       " PosixPath('collection-v0/release-v0-vm/data/LLM-japanese-vanilla-inst_data.jsonl'),\n",
       " PosixPath('collection-v0/release-v0-vm/data/NusaX-senti_data.jsonl'),\n",
       " PosixPath('collection-v0/release-v0-vm/data/thirukkural_QA_data.jsonl'),\n",
       " PosixPath('collection-v0/release-v0-vm/data/Mintaka_data.jsonl'),\n",
       " PosixPath('collection-v0/release-v0-vm/data/masakhane-news_data.jsonl'),\n",
       " PosixPath('collection-v0/release-v0-vm/data/AfriSenti_data.jsonl'),\n",
       " PosixPath('collection-v0/release-v0-vm/data/Wiki_split_data.jsonl'),\n",
       " PosixPath('collection-v0/release-v0-vm/data/indo_instruct_stories_data.jsonl'),\n",
       " PosixPath('collection-v0/release-v0-vm/data/xlel_wd_data.jsonl'),\n",
       " PosixPath('collection-v0/release-v0-vm/data/telugu-poems_data.jsonl'),\n",
       " PosixPath('collection-v0/release-v0-vm/data/joke_explaination_data.jsonl'),\n",
       " PosixPath('collection-v0/release-v0-vm/data/telugu-news-articles_data.jsonl'),\n",
       " PosixPath('collection-v0/release-v0-vm/data/thai_usembassy_prompt_data.jsonl'),\n",
       " PosixPath('collection-v0/release-v0-vm/data/SODA_data.jsonl'),\n",
       " PosixPath('collection-v0/release-v0-vm/data/NTX_LLM_inst_data.jsonl'),\n",
       " PosixPath('collection-v0/release-v0-vm/data/UNER_LLM_inst_data.jsonl'),\n",
       " PosixPath('collection-v0/release-v0-vm/data/IndicSentiment-inst_data.jsonl'),\n",
       " PosixPath('collection-v0/release-v0-vm/data/hindi-article-summarization_data.jsonl'),\n",
       " PosixPath('collection-v0/release-v0-vm/data/imdb-dutch-instruct_data.jsonl'),\n",
       " PosixPath('collection-v0/release-v0-vm/data/ua_gec_instructions_data.jsonl'),\n",
       " PosixPath('collection-v0/release-v0-vm/data/scb_mt_2020_th_prompt_data.jsonl'),\n",
       " PosixPath('collection-v0/release-v0-vm/data/tamil_stories_data.jsonl'),\n",
       " PosixPath('collection-v0/release-v0-vm/data/FarsTail-Instruct_data.jsonl'),\n",
       " PosixPath('collection-v0/release-v0-vm/data/turkparaphrase_corpus_data.jsonl'),\n",
       " PosixPath('collection-v0/release-v0-vm/data/thai-wiktionary-prompt_data.jsonl'),\n",
       " PosixPath('collection-v0/release-v0-vm/data/arpa-aya_data.jsonl'),\n",
       " PosixPath('collection-v0/release-v0-vm/data/annotated_news_summary_data.jsonl'),\n",
       " PosixPath('collection-v0/release-v0-vm/data/scirepeval_data.jsonl'),\n",
       " PosixPath('collection-v0/release-v0-vm/data/telugu-jokes_data.jsonl'),\n",
       " PosixPath('collection-v0/release-v0-vm/data/telugu-food-recipes_data.jsonl'),\n",
       " PosixPath('collection-v0/release-v0-vm/data/Urdu-Instruct-News-Category-Classification_data.jsonl'),\n",
       " PosixPath('collection-v0/release-v0-vm/data/IndicXParaphrase-inst_data.jsonl'),\n",
       " PosixPath('collection-v0/release-v0-vm/data/Urdu-Instruct-News-Headline-Generation_data.jsonl'),\n",
       " PosixPath('collection-v0/release-v0-vm/data/Urdu-Instruct-News-Article-Generation_data.jsonl'),\n",
       " PosixPath('collection-v0/release-v0-vm/data/AfriQA_data.jsonl'),\n",
       " PosixPath('collection-v0/release-v0-vm/data/Thai-Pos-prompt_data.jsonl'),\n",
       " PosixPath('collection-v0/release-v0-vm/data/lijnews-instruct_data.jsonl'),\n",
       " PosixPath('collection-v0/release-v0-vm/data/persian_instruction_pn_data.jsonl'),\n",
       " PosixPath('collection-v0/release-v0-vm/data/seed-instruct-lij_data.jsonl'),\n",
       " PosixPath('collection-v0/release-v0-vm/data/Xwikis_data.jsonl'),\n",
       " PosixPath('collection-v0/release-v0-vm/data/amharic-qa_data.jsonl'),\n",
       " PosixPath('collection-v0/release-v0-vm/data/X-CSQA_data.jsonl'),\n",
       " PosixPath('collection-v0/release-v0-vm/data/hindi-headline-article-generation_data.jsonl')]"
      ]
     },
     "execution_count": 44,
     "metadata": {},
     "output_type": "execute_result"
    }
   ],
   "source": [
    "# Rename file paths to remove additional \"u_\" if present\n",
    "# data_file_paths = [path.rename(Path(path.parent, path.stem.replace(\"u_\",\"\") + path.suffix)) for path in data_file_paths]\n",
    "# data_file_paths"
   ]
  },
  {
   "cell_type": "code",
   "execution_count": 15,
   "id": "662f78d3-4e64-46f8-ae70-151d4e400901",
   "metadata": {},
   "outputs": [
    {
     "data": {
      "text/plain": [
       "[PosixPath('translated_xlel_wd_data.jsonl'),\n",
       " PosixPath('translated_piqa_data.jsonl'),\n",
       " PosixPath('translated_flan_qa_data.jsonl'),\n",
       " PosixPath('translated_flan_gem_wiki_data.jsonl'),\n",
       " PosixPath('translated_paws_data.jsonl'),\n",
       " PosixPath('translated_flan_coqa_data.jsonl'),\n",
       " PosixPath('translated_mlqa_data.jsonl'),\n",
       " PosixPath('translated_wiki_split_data.jsonl'),\n",
       " PosixPath('translated_flan_lambada_data.jsonl'),\n",
       " PosixPath('translated_dolly_data.jsonl'),\n",
       " PosixPath('translated_adversarial_qa_data.jsonl'),\n",
       " PosixPath('translated_mintaka_data.jsonl'),\n",
       " PosixPath('translated_hotpotqa_data.jsonl'),\n",
       " PosixPath('translated_nqopen_data.jsonl'),\n",
       " PosixPath('translated_wikiqa_data.jsonl'),\n",
       " PosixPath('translated_soda_data.jsonl'),\n",
       " PosixPath('translated_cnn_dailymail_data.jsonl'),\n",
       " PosixPath('translated_flan_cot_data.jsonl'),\n",
       " PosixPath('translated_joke_explaination_data.jsonl')]"
      ]
     },
     "execution_count": 15,
     "metadata": {},
     "output_type": "execute_result"
    }
   ],
   "source": [
    "relative_paths = [path.relative_to(data_directory_path) for path in data_file_paths]\n",
    "relative_paths"
   ]
  },
  {
   "cell_type": "code",
   "execution_count": 16,
   "id": "ca6293fd-6078-42e7-b23a-f077d0dfe079",
   "metadata": {},
   "outputs": [
    {
     "name": "stdout",
     "output_type": "stream",
     "text": [
      "Found 19 files.\n"
     ]
    }
   ],
   "source": [
    "string_paths = [str(path) for path in relative_paths]\n",
    "\n",
    "print(\"Found {} files.\".format(len(string_paths)))"
   ]
  },
  {
   "cell_type": "code",
   "execution_count": 17,
   "id": "a41a9d7a-d7f4-4f08-9266-efb8a714d8fb",
   "metadata": {},
   "outputs": [
    {
     "name": "stdout",
     "output_type": "stream",
     "text": [
      "Uploaded translated_xlel_wd_data.jsonl to c4ai-instruct-multilingual-data.\n",
      "Uploaded translated_piqa_data.jsonl to c4ai-instruct-multilingual-data.\n",
      "Uploaded translated_flan_qa_data.jsonl to c4ai-instruct-multilingual-data.\n",
      "Uploaded translated_flan_gem_wiki_data.jsonl to c4ai-instruct-multilingual-data.\n",
      "Uploaded translated_paws_data.jsonl to c4ai-instruct-multilingual-data.\n",
      "Uploaded translated_flan_coqa_data.jsonl to c4ai-instruct-multilingual-data.\n",
      "Uploaded translated_mlqa_data.jsonl to c4ai-instruct-multilingual-data.\n",
      "Uploaded translated_wiki_split_data.jsonl to c4ai-instruct-multilingual-data.\n",
      "Uploaded translated_flan_lambada_data.jsonl to c4ai-instruct-multilingual-data.\n",
      "Uploaded translated_dolly_data.jsonl to c4ai-instruct-multilingual-data.\n",
      "Uploaded translated_adversarial_qa_data.jsonl to c4ai-instruct-multilingual-data.\n",
      "Uploaded translated_mintaka_data.jsonl to c4ai-instruct-multilingual-data.\n",
      "Uploaded translated_hotpotqa_data.jsonl to c4ai-instruct-multilingual-data.\n",
      "Uploaded translated_nqopen_data.jsonl to c4ai-instruct-multilingual-data.\n",
      "Uploaded translated_wikiqa_data.jsonl to c4ai-instruct-multilingual-data.\n",
      "Uploaded translated_soda_data.jsonl to c4ai-instruct-multilingual-data.\n",
      "Uploaded translated_cnn_dailymail_data.jsonl to c4ai-instruct-multilingual-data.\n",
      "Uploaded translated_flan_cot_data.jsonl to c4ai-instruct-multilingual-data.\n",
      "Uploaded translated_joke_explaination_data.jsonl to c4ai-instruct-multilingual-data.\n"
     ]
    }
   ],
   "source": [
    "# push all data files\n",
    "\n",
    "#\"aya-collection-staging/v0/data/\" --> v0 path\n",
    "\n",
    "# v1 path for templated -> \"aya-collection-staging/v1/templated_datasets/data/\"\n",
    "\n",
    "# v1 path for translated Main data (mm_) --> \n",
    "\n",
    "# v1 path for translated data -> \"aya-collection-staging/v1/translated_datasets/data/\"\n",
    "\n",
    "results = transfer_manager.upload_many_from_filenames(\n",
    "    bucket, string_paths, source_directory=aya_collection_data_dir, max_workers = 8, blob_name_prefix=\"aya-collection-staging/v2/translated_datasets/data/\")\n",
    "\n",
    "for name, result in zip(string_paths, results):\n",
    "    if isinstance(result, Exception):\n",
    "            print(\"Failed to upload {} due to exception: {}\".format(name, result))\n",
    "    else:\n",
    "        print(\"Uploaded {} to {}.\".format(name, bucket.name))"
   ]
  },
  {
   "cell_type": "code",
   "execution_count": null,
   "id": "9125510f-a5cd-4341-a1f8-ec0be312c297",
   "metadata": {},
   "outputs": [],
   "source": []
  }
 ],
 "metadata": {
  "kernelspec": {
   "display_name": "Python 3 (ipykernel)",
   "language": "python",
   "name": "python3"
  },
  "language_info": {
   "codemirror_mode": {
    "name": "ipython",
    "version": 3
   },
   "file_extension": ".py",
   "mimetype": "text/x-python",
   "name": "python",
   "nbconvert_exporter": "python",
   "pygments_lexer": "ipython3",
   "version": "3.10.12"
  }
 },
 "nbformat": 4,
 "nbformat_minor": 5
}
